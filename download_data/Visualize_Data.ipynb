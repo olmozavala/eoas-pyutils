{
 "cells": [
  {
   "cell_type": "code",
   "execution_count": 1,
   "id": "3a48f34a-29db-4bca-ac28-ec266a994727",
   "metadata": {},
   "outputs": [],
   "source": [
    "import ipywidgets as widgets\n",
    "from ipywidgets import interact, interactive, fixed, interact_manual\n",
    "import numpy as np\n",
    "import matplotlib.pyplot as plt\n",
    "from matplotlib.colors import LogNorm\n",
    "from os.path import join\n",
    "import os\n",
    "import cmocean.cm as cm\n",
    "import cartopy.crs as ccrs\n",
    "from datetime import datetime, timedelta, date\n",
    "import xarray as xr\n",
    "import sys\n",
    "sys.path.append(\"../\")\n",
    "from proc_utils.gom import lc_from_ssh"
   ]
  },
  {
   "cell_type": "code",
   "execution_count": 2,
   "id": "9b1767b9-159f-4382-93aa-2c2a99c56d04",
   "metadata": {},
   "outputs": [],
   "source": [
    "root_folder = \"/Net/work/ozavala/GOFFISH/\"\n",
    "\n",
    "sss_path = \"SSS/SMAP_Global\"\n",
    "adt_path = \"AVISO\"\n",
    "sst_path = \"SST/OISST\"\n",
    "chlora_path = \"CHLORA/NOAA\"\n",
    "\n",
    "start_date = datetime.strptime(\"2020-01-01\", \"%Y-%m-%d\")\n",
    "end_date = datetime.strptime(\"2021-01-01\", \"%Y-%m-%d\")\n",
    "cur_date = start_date\n",
    "\n",
    "# bbox = (-99, -74, 17, 31)\n",
    "bbox= (-91, -80, 20, 28)\n",
    "lon = (bbox[0], bbox[1])\n",
    "lon_360 = (360 + bbox[0], 360 + bbox[1])\n",
    "lat = (bbox[2], bbox[3])"
   ]
  },
  {
   "cell_type": "code",
   "execution_count": 3,
   "id": "d69f6df9-5c91-4f14-8983-8dc20bdb17e1",
   "metadata": {},
   "outputs": [],
   "source": [
    "# ------------------------ For speed testing ----------------\n",
    "def read_day(cur_date):\n",
    "    year = cur_date.year\n",
    "    month = cur_date.month\n",
    "    day_year = cur_date.timetuple().tm_yday\n",
    "    day_month = cur_date.day\n",
    "    \n",
    "    sss_file = join(root_folder, sss_path, str(year), f\"RSS_smap_SSS_L3_8day_running_{year}_{day_year:03d}_FNL_v05.0.nc\")\n",
    "    adt_file = join(root_folder, adt_path, f\"{year}-{month:02d}.nc\")\n",
    "    sst_file = join(root_folder, sst_path, str(year), f\"{year}{month:02d}{day_month:02d}090000-JPL-L4_GHRSST-SSTfnd-MUR-GLOB-v02.0-fv04.1_subset.nc\")\n",
    "    chlora_file = join(root_folder, chlora_path, f\"{year}-{month:02d}-{day_month:02d}.nc\")\n",
    "\n",
    "    assert os.path.exists(sss_file)\n",
    "    assert os.path.exists(adt_file)\n",
    "    assert os.path.exists(sst_file)\n",
    "    assert os.path.exists(chlora_file)\n",
    "\n",
    "    # Reading data\n",
    "    print(\"Reading...\", flush=True)\n",
    "    sss_orig = xr.load_dataset(sss_file)\n",
    "    adt_orig = xr.load_dataset(adt_file)\n",
    "    sst_orig = xr.load_dataset(sst_file)\n",
    "    chlora_orig = xr.load_dataset(chlora_file)\n",
    "\n",
    "    # Cropping to the same domain\n",
    "    print(\"Cropping...\", flush=True)\n",
    "    adt = adt_orig.sel(latitude=slice(lat[0], lat[1]), longitude=slice(lon[0], lon[1]))\n",
    "    sss = sss_orig.sel(lat=slice(lat[0], lat[1]), lon=slice(lon_360[0], lon_360[1]))\n",
    "    sst = sst_orig.sel(lat=slice(lat[0], lat[1]), lon=slice(lon[0], lon[1]))\n",
    "    chlora = chlora_orig.sel(latitude=slice(lat[1], lat[0]), longitude=slice(lon[0], lon[1]))  # For some reason latitude is flipped\n",
    "    \n",
    "    sss_orig.close()\n",
    "    adt_orig.close()\n",
    "    sst_orig.close()\n",
    "    chlora_orig.close()\n",
    "    \n",
    "    adt_slice = adt.adt[day_month,:,:]\n",
    "    sss_slice = sss.sss_smap_40km[:,:]\n",
    "    sst_slice = sst.analysed_sst[0,:,:]\n",
    "    chlora_slice = chlora.chlor_a[0,0,:,:]\n",
    "    \n",
    "    # Computing LC\n",
    "    lats_adt = adt.latitude\n",
    "    lons_adt = adt.longitude\n",
    "    lc = lc_from_ssh(adt_slice, lons_adt, lats_adt)\n",
    "    print(lc)\n",
    "    \n",
    "    return adt_slice, sss_slice, sst_slice, chlora_slicea "
   ]
  },
  {
   "cell_type": "code",
   "execution_count": 4,
   "id": "9a6c1827-1ca0-4eee-9b67-6626368b1c5b",
   "metadata": {},
   "outputs": [],
   "source": [
    "def plotData(fig, axs, adt, sss, sst, chlora):\n",
    "    \n",
    "    print(\"Plotting...\", flush=True) \n",
    "    im_adt = axs[0][0].imshow(adt, origin='lower', cmap=cm.balance, extent=bbox, transform=ccrs.PlateCarree())\n",
    "    im_sss = axs[0][1].imshow(sss, origin='lower', cmap=cm.haline, norm=LogNorm(vmin=30, vmax=38), extent=bbox, transform=ccrs.PlateCarree())\n",
    "    im_sst = axs[1][0].imshow(sst, origin='lower', cmap=cm.thermal,  extent=bbox, transform=ccrs.PlateCarree())\n",
    "    im_chlor_a = axs[1][1].imshow(chlora, origin='upper', cmap=cm.algae, norm=LogNorm(vmin=.15, vmax=.3), extent=bbox, transform=ccrs.PlateCarree())\n",
    "\n",
    "    axs[0][0].set_title(\"ADT\")\n",
    "    axs[0][1].set_title(\"SSS\")\n",
    "    axs[1][0].set_title(\"SST\")\n",
    "    axs[1][1].set_title(\"CHLORA \")\n",
    "\n",
    "    for ax in fig.get_axes():\n",
    "        gl = ax.gridlines(draw_labels=True, color='grey', alpha=0.5, linestyle='--')\n",
    "        gl.top_labels = False\n",
    "        gl.left_labels = False\n",
    "\n",
    "    shrink = 0.7\n",
    "    fig.colorbar(im_adt, ax=axs[0][0], shrink=shrink)\n",
    "    fig.colorbar(im_sss, ax=axs[0][1], shrink=shrink)\n",
    "    fig.colorbar(im_sst, ax=axs[1][0], shrink=shrink)\n",
    "    fig.colorbar(im_chlor_a, ax=axs[1][1], shrink=shrink)\n",
    "\n",
    "    plt.suptitle(cur_date)\n",
    "    plt.tight_layout(pad=1.5)\n",
    "    # plt.show()\n",
    "    return fig"
   ]
  },
  {
   "cell_type": "code",
   "execution_count": 25,
   "id": "bd117555-28f6-41da-a43b-ac9e7f7ede99",
   "metadata": {},
   "outputs": [
    {
     "name": "stdout",
     "output_type": "stream",
     "text": [
      "Reading...\n",
      "Cropping...\n"
     ]
    },
    {
     "ename": "TypeError",
     "evalue": "a bytes-like object is required, not 'DataArray'",
     "output_type": "error",
     "traceback": [
      "\u001B[0;31m---------------------------------------------------------------------------\u001B[0m",
      "\u001B[0;31mTypeError\u001B[0m                                 Traceback (most recent call last)",
      "Cell \u001B[0;32mIn [25], line 9\u001B[0m\n\u001B[1;32m      7\u001B[0m fig, axs \u001B[38;5;241m=\u001B[39m plt\u001B[38;5;241m.\u001B[39msubplots(\u001B[38;5;241m2\u001B[39m, \u001B[38;5;241m2\u001B[39m, figsize\u001B[38;5;241m=\u001B[39m(\u001B[38;5;241m20\u001B[39m, \u001B[38;5;241m13\u001B[39m), subplot_kw\u001B[38;5;241m=\u001B[39m{\u001B[38;5;124m'\u001B[39m\u001B[38;5;124mprojection\u001B[39m\u001B[38;5;124m'\u001B[39m: ccrs\u001B[38;5;241m.\u001B[39mPlateCarree()})\n\u001B[1;32m      8\u001B[0m file_name \u001B[38;5;241m=\u001B[39m join(\u001B[38;5;124m\"\u001B[39m\u001B[38;5;124m/Net/work/ozavala/GOFFISH/imgs/SatelliteDataComparison\u001B[39m\u001B[38;5;124m\"\u001B[39m, cur_date\u001B[38;5;241m.\u001B[39mstrftime(\u001B[38;5;124m\"\u001B[39m\u001B[38;5;124m%\u001B[39m\u001B[38;5;124mY-\u001B[39m\u001B[38;5;124m%\u001B[39m\u001B[38;5;124mm-\u001B[39m\u001B[38;5;132;01m%d\u001B[39;00m\u001B[38;5;124m\"\u001B[39m))\n\u001B[0;32m----> 9\u001B[0m adt, sss, sst, chlora \u001B[38;5;241m=\u001B[39m \u001B[43mread_day\u001B[49m\u001B[43m(\u001B[49m\u001B[43mcur_date\u001B[49m\u001B[43m)\u001B[49m\n\u001B[1;32m     10\u001B[0m fig \u001B[38;5;241m=\u001B[39m plotData(fig, axs, adt, sss, sst, chlora)\n\u001B[1;32m     11\u001B[0m plt\u001B[38;5;241m.\u001B[39msavefig(file_name)\n",
      "Cell \u001B[0;32mIn [23], line 45\u001B[0m, in \u001B[0;36mread_day\u001B[0;34m(cur_date)\u001B[0m\n\u001B[1;32m     43\u001B[0m lats_adt \u001B[38;5;241m=\u001B[39m adt\u001B[38;5;241m.\u001B[39mlatitude\n\u001B[1;32m     44\u001B[0m lons_adt \u001B[38;5;241m=\u001B[39m adt\u001B[38;5;241m.\u001B[39mlongitude\n\u001B[0;32m---> 45\u001B[0m lc \u001B[38;5;241m=\u001B[39m \u001B[43mlc_from_ssh\u001B[49m\u001B[43m(\u001B[49m\u001B[43madt_slice\u001B[49m\u001B[43m,\u001B[49m\u001B[43m \u001B[49m\u001B[43mlons_adt\u001B[49m\u001B[43m,\u001B[49m\u001B[43m \u001B[49m\u001B[43mlats_adt\u001B[49m\u001B[43m)\u001B[49m\n\u001B[1;32m     46\u001B[0m \u001B[38;5;28mprint\u001B[39m(lc)\n\u001B[1;32m     48\u001B[0m \u001B[38;5;28;01mreturn\u001B[39;00m adt_slice, sss_slice, sst_slice, chlora_slicea\n",
      "File \u001B[0;32m~/Dropbox/MyProjects/OZ_LIB/eoas_preprocessing/download_data/../proc_utils/gom.py:45\u001B[0m, in \u001B[0;36mlc_from_ssh\u001B[0;34m(ssh, lon, lat, mean_adt)\u001B[0m\n\u001B[1;32m     34\u001B[0m \u001B[38;5;124;03m\"\"\"\u001B[39;00m\n\u001B[1;32m     35\u001B[0m \u001B[38;5;124;03mObtains the Loop Current contour from ssh data\u001B[39;00m\n\u001B[1;32m     36\u001B[0m \u001B[38;5;124;03mhttps://duacs.cls.fr/faq/what-are-the-product-specification/different-sea-surface-heights-used-in-altimetry/\u001B[39;00m\n\u001B[0;32m   (...)\u001B[0m\n\u001B[1;32m     42\u001B[0m \n\u001B[1;32m     43\u001B[0m \u001B[38;5;124;03m\"\"\"\u001B[39;00m\n\u001B[1;32m     44\u001B[0m ssh \u001B[38;5;241m=\u001B[39m ssh \u001B[38;5;241m-\u001B[39m mean_adt\n\u001B[0;32m---> 45\u001B[0m cco \u001B[38;5;241m=\u001B[39m \u001B[43mmeasure\u001B[49m\u001B[38;5;241;43m.\u001B[39;49m\u001B[43mfind_contours\u001B[49m\u001B[43m(\u001B[49m\u001B[43mssh\u001B[49m\u001B[43m,\u001B[49m\u001B[43m \u001B[49m\u001B[38;5;241;43m0.17\u001B[39;49m\u001B[43m,\u001B[49m\u001B[43m \u001B[49m\u001B[43mfully_connected\u001B[49m\u001B[38;5;241;43m=\u001B[39;49m\u001B[38;5;124;43m'\u001B[39;49m\u001B[38;5;124;43mlow\u001B[39;49m\u001B[38;5;124;43m'\u001B[39;49m\u001B[43m,\u001B[49m\u001B[43m \u001B[49m\u001B[43mpositive_orientation\u001B[49m\u001B[38;5;241;43m=\u001B[39;49m\u001B[38;5;124;43m'\u001B[39;49m\u001B[38;5;124;43mlow\u001B[39;49m\u001B[38;5;124;43m'\u001B[39;49m\u001B[43m)\u001B[49m\n\u001B[1;32m     46\u001B[0m cc \u001B[38;5;241m=\u001B[39m change_units(cco, lon, lat)\n\u001B[1;32m     47\u001B[0m \u001B[38;5;66;03m# Remove contour that are eddies\u001B[39;00m\n",
      "File \u001B[0;32m~/anaconda3/envs/eoasweb/lib/python3.10/site-packages/skimage/_shared/utils.py:282\u001B[0m, in \u001B[0;36mdeprecate_kwarg.__call__.<locals>.fixed_func\u001B[0;34m(*args, **kwargs)\u001B[0m\n\u001B[1;32m    279\u001B[0m         kwargs[new_arg] \u001B[38;5;241m=\u001B[39m kwargs\u001B[38;5;241m.\u001B[39mpop(old_arg)\n\u001B[1;32m    281\u001B[0m \u001B[38;5;66;03m# Call the function with the fixed arguments\u001B[39;00m\n\u001B[0;32m--> 282\u001B[0m \u001B[38;5;28;01mreturn\u001B[39;00m \u001B[43mfunc\u001B[49m\u001B[43m(\u001B[49m\u001B[38;5;241;43m*\u001B[39;49m\u001B[43margs\u001B[49m\u001B[43m,\u001B[49m\u001B[43m \u001B[49m\u001B[38;5;241;43m*\u001B[39;49m\u001B[38;5;241;43m*\u001B[39;49m\u001B[43mkwargs\u001B[49m\u001B[43m)\u001B[49m\n",
      "File \u001B[0;32m~/anaconda3/envs/eoasweb/lib/python3.10/site-packages/skimage/measure/_find_contours.py:151\u001B[0m, in \u001B[0;36mfind_contours\u001B[0;34m(image, level, fully_connected, positive_orientation, mask)\u001B[0m\n\u001B[1;32m    148\u001B[0m \u001B[38;5;28;01mif\u001B[39;00m level \u001B[38;5;129;01mis\u001B[39;00m \u001B[38;5;28;01mNone\u001B[39;00m:\n\u001B[1;32m    149\u001B[0m     level \u001B[38;5;241m=\u001B[39m (np\u001B[38;5;241m.\u001B[39mnanmin(image) \u001B[38;5;241m+\u001B[39m np\u001B[38;5;241m.\u001B[39mnanmax(image)) \u001B[38;5;241m/\u001B[39m \u001B[38;5;241m2.0\u001B[39m\n\u001B[0;32m--> 151\u001B[0m segments \u001B[38;5;241m=\u001B[39m \u001B[43m_get_contour_segments\u001B[49m\u001B[43m(\u001B[49m\u001B[43mimage\u001B[49m\u001B[38;5;241;43m.\u001B[39;49m\u001B[43mastype\u001B[49m\u001B[43m(\u001B[49m\u001B[43mnp\u001B[49m\u001B[38;5;241;43m.\u001B[39;49m\u001B[43mdouble\u001B[49m\u001B[43m)\u001B[49m\u001B[43m,\u001B[49m\u001B[43m \u001B[49m\u001B[38;5;28;43mfloat\u001B[39;49m\u001B[43m(\u001B[49m\u001B[43mlevel\u001B[49m\u001B[43m)\u001B[49m\u001B[43m,\u001B[49m\n\u001B[1;32m    152\u001B[0m \u001B[43m                                 \u001B[49m\u001B[43mfully_connected\u001B[49m\u001B[43m \u001B[49m\u001B[38;5;241;43m==\u001B[39;49m\u001B[43m \u001B[49m\u001B[38;5;124;43m'\u001B[39;49m\u001B[38;5;124;43mhigh\u001B[39;49m\u001B[38;5;124;43m'\u001B[39;49m\u001B[43m,\u001B[49m\u001B[43m \u001B[49m\u001B[43mmask\u001B[49m\u001B[38;5;241;43m=\u001B[39;49m\u001B[43mmask\u001B[49m\u001B[43m)\u001B[49m\n\u001B[1;32m    153\u001B[0m contours \u001B[38;5;241m=\u001B[39m _assemble_contours(segments)\n\u001B[1;32m    154\u001B[0m \u001B[38;5;28;01mif\u001B[39;00m positive_orientation \u001B[38;5;241m==\u001B[39m \u001B[38;5;124m'\u001B[39m\u001B[38;5;124mhigh\u001B[39m\u001B[38;5;124m'\u001B[39m:\n",
      "File \u001B[0;32m~/anaconda3/envs/eoasweb/lib/python3.10/site-packages/skimage/measure/_find_contours_cy.pyx:19\u001B[0m, in \u001B[0;36mskimage.measure._find_contours_cy._get_contour_segments\u001B[0;34m()\u001B[0m\n",
      "File \u001B[0;32mstringsource:660\u001B[0m, in \u001B[0;36mView.MemoryView.memoryview_cwrapper\u001B[0;34m()\u001B[0m\n",
      "File \u001B[0;32mstringsource:350\u001B[0m, in \u001B[0;36mView.MemoryView.memoryview.__cinit__\u001B[0;34m()\u001B[0m\n",
      "\u001B[0;31mTypeError\u001B[0m: a bytes-like object is required, not 'DataArray'"
     ]
    },
    {
     "name": "stdout",
     "output_type": "stream",
     "text": [
      "Error in callback <function _draw_all_if_interactive at 0x7fa9c2d6c1f0> (for post_execute):\n"
     ]
    },
    {
     "ename": "AttributeError",
     "evalue": "'GeoAxesSubplot' object has no attribute '_autoscaleXon'",
     "output_type": "error",
     "traceback": [
      "\u001B[0;31m---------------------------------------------------------------------------\u001B[0m",
      "\u001B[0;31mAttributeError\u001B[0m                            Traceback (most recent call last)",
      "File \u001B[0;32m~/anaconda3/envs/eoasweb/lib/python3.10/site-packages/matplotlib/pyplot.py:119\u001B[0m, in \u001B[0;36m_draw_all_if_interactive\u001B[0;34m()\u001B[0m\n\u001B[1;32m    117\u001B[0m \u001B[38;5;28;01mdef\u001B[39;00m \u001B[38;5;21m_draw_all_if_interactive\u001B[39m():\n\u001B[1;32m    118\u001B[0m     \u001B[38;5;28;01mif\u001B[39;00m matplotlib\u001B[38;5;241m.\u001B[39mis_interactive():\n\u001B[0;32m--> 119\u001B[0m         \u001B[43mdraw_all\u001B[49m\u001B[43m(\u001B[49m\u001B[43m)\u001B[49m\n",
      "File \u001B[0;32m~/anaconda3/envs/eoasweb/lib/python3.10/site-packages/matplotlib/_pylab_helpers.py:132\u001B[0m, in \u001B[0;36mGcf.draw_all\u001B[0;34m(cls, force)\u001B[0m\n\u001B[1;32m    130\u001B[0m \u001B[38;5;28;01mfor\u001B[39;00m manager \u001B[38;5;129;01min\u001B[39;00m \u001B[38;5;28mcls\u001B[39m\u001B[38;5;241m.\u001B[39mget_all_fig_managers():\n\u001B[1;32m    131\u001B[0m     \u001B[38;5;28;01mif\u001B[39;00m force \u001B[38;5;129;01mor\u001B[39;00m manager\u001B[38;5;241m.\u001B[39mcanvas\u001B[38;5;241m.\u001B[39mfigure\u001B[38;5;241m.\u001B[39mstale:\n\u001B[0;32m--> 132\u001B[0m         \u001B[43mmanager\u001B[49m\u001B[38;5;241;43m.\u001B[39;49m\u001B[43mcanvas\u001B[49m\u001B[38;5;241;43m.\u001B[39;49m\u001B[43mdraw_idle\u001B[49m\u001B[43m(\u001B[49m\u001B[43m)\u001B[49m\n",
      "File \u001B[0;32m~/anaconda3/envs/eoasweb/lib/python3.10/site-packages/matplotlib/backend_bases.py:2054\u001B[0m, in \u001B[0;36mFigureCanvasBase.draw_idle\u001B[0;34m(self, *args, **kwargs)\u001B[0m\n\u001B[1;32m   2052\u001B[0m \u001B[38;5;28;01mif\u001B[39;00m \u001B[38;5;129;01mnot\u001B[39;00m \u001B[38;5;28mself\u001B[39m\u001B[38;5;241m.\u001B[39m_is_idle_drawing:\n\u001B[1;32m   2053\u001B[0m     \u001B[38;5;28;01mwith\u001B[39;00m \u001B[38;5;28mself\u001B[39m\u001B[38;5;241m.\u001B[39m_idle_draw_cntx():\n\u001B[0;32m-> 2054\u001B[0m         \u001B[38;5;28;43mself\u001B[39;49m\u001B[38;5;241;43m.\u001B[39;49m\u001B[43mdraw\u001B[49m\u001B[43m(\u001B[49m\u001B[38;5;241;43m*\u001B[39;49m\u001B[43margs\u001B[49m\u001B[43m,\u001B[49m\u001B[43m \u001B[49m\u001B[38;5;241;43m*\u001B[39;49m\u001B[38;5;241;43m*\u001B[39;49m\u001B[43mkwargs\u001B[49m\u001B[43m)\u001B[49m\n",
      "File \u001B[0;32m~/anaconda3/envs/eoasweb/lib/python3.10/site-packages/matplotlib/backends/backend_agg.py:405\u001B[0m, in \u001B[0;36mFigureCanvasAgg.draw\u001B[0;34m(self)\u001B[0m\n\u001B[1;32m    401\u001B[0m \u001B[38;5;66;03m# Acquire a lock on the shared font cache.\u001B[39;00m\n\u001B[1;32m    402\u001B[0m \u001B[38;5;28;01mwith\u001B[39;00m RendererAgg\u001B[38;5;241m.\u001B[39mlock, \\\n\u001B[1;32m    403\u001B[0m      (\u001B[38;5;28mself\u001B[39m\u001B[38;5;241m.\u001B[39mtoolbar\u001B[38;5;241m.\u001B[39m_wait_cursor_for_draw_cm() \u001B[38;5;28;01mif\u001B[39;00m \u001B[38;5;28mself\u001B[39m\u001B[38;5;241m.\u001B[39mtoolbar\n\u001B[1;32m    404\u001B[0m       \u001B[38;5;28;01melse\u001B[39;00m nullcontext()):\n\u001B[0;32m--> 405\u001B[0m     \u001B[38;5;28;43mself\u001B[39;49m\u001B[38;5;241;43m.\u001B[39;49m\u001B[43mfigure\u001B[49m\u001B[38;5;241;43m.\u001B[39;49m\u001B[43mdraw\u001B[49m\u001B[43m(\u001B[49m\u001B[38;5;28;43mself\u001B[39;49m\u001B[38;5;241;43m.\u001B[39;49m\u001B[43mrenderer\u001B[49m\u001B[43m)\u001B[49m\n\u001B[1;32m    406\u001B[0m     \u001B[38;5;66;03m# A GUI class may be need to update a window using this draw, so\u001B[39;00m\n\u001B[1;32m    407\u001B[0m     \u001B[38;5;66;03m# don't forget to call the superclass.\u001B[39;00m\n\u001B[1;32m    408\u001B[0m     \u001B[38;5;28msuper\u001B[39m()\u001B[38;5;241m.\u001B[39mdraw()\n",
      "File \u001B[0;32m~/anaconda3/envs/eoasweb/lib/python3.10/site-packages/matplotlib/artist.py:74\u001B[0m, in \u001B[0;36m_finalize_rasterization.<locals>.draw_wrapper\u001B[0;34m(artist, renderer, *args, **kwargs)\u001B[0m\n\u001B[1;32m     72\u001B[0m \u001B[38;5;129m@wraps\u001B[39m(draw)\n\u001B[1;32m     73\u001B[0m \u001B[38;5;28;01mdef\u001B[39;00m \u001B[38;5;21mdraw_wrapper\u001B[39m(artist, renderer, \u001B[38;5;241m*\u001B[39margs, \u001B[38;5;241m*\u001B[39m\u001B[38;5;241m*\u001B[39mkwargs):\n\u001B[0;32m---> 74\u001B[0m     result \u001B[38;5;241m=\u001B[39m \u001B[43mdraw\u001B[49m\u001B[43m(\u001B[49m\u001B[43martist\u001B[49m\u001B[43m,\u001B[49m\u001B[43m \u001B[49m\u001B[43mrenderer\u001B[49m\u001B[43m,\u001B[49m\u001B[43m \u001B[49m\u001B[38;5;241;43m*\u001B[39;49m\u001B[43margs\u001B[49m\u001B[43m,\u001B[49m\u001B[43m \u001B[49m\u001B[38;5;241;43m*\u001B[39;49m\u001B[38;5;241;43m*\u001B[39;49m\u001B[43mkwargs\u001B[49m\u001B[43m)\u001B[49m\n\u001B[1;32m     75\u001B[0m     \u001B[38;5;28;01mif\u001B[39;00m renderer\u001B[38;5;241m.\u001B[39m_rasterizing:\n\u001B[1;32m     76\u001B[0m         renderer\u001B[38;5;241m.\u001B[39mstop_rasterizing()\n",
      "File \u001B[0;32m~/anaconda3/envs/eoasweb/lib/python3.10/site-packages/matplotlib/artist.py:51\u001B[0m, in \u001B[0;36mallow_rasterization.<locals>.draw_wrapper\u001B[0;34m(artist, renderer)\u001B[0m\n\u001B[1;32m     48\u001B[0m     \u001B[38;5;28;01mif\u001B[39;00m artist\u001B[38;5;241m.\u001B[39mget_agg_filter() \u001B[38;5;129;01mis\u001B[39;00m \u001B[38;5;129;01mnot\u001B[39;00m \u001B[38;5;28;01mNone\u001B[39;00m:\n\u001B[1;32m     49\u001B[0m         renderer\u001B[38;5;241m.\u001B[39mstart_filter()\n\u001B[0;32m---> 51\u001B[0m     \u001B[38;5;28;01mreturn\u001B[39;00m \u001B[43mdraw\u001B[49m\u001B[43m(\u001B[49m\u001B[43martist\u001B[49m\u001B[43m,\u001B[49m\u001B[43m \u001B[49m\u001B[43mrenderer\u001B[49m\u001B[43m)\u001B[49m\n\u001B[1;32m     52\u001B[0m \u001B[38;5;28;01mfinally\u001B[39;00m:\n\u001B[1;32m     53\u001B[0m     \u001B[38;5;28;01mif\u001B[39;00m artist\u001B[38;5;241m.\u001B[39mget_agg_filter() \u001B[38;5;129;01mis\u001B[39;00m \u001B[38;5;129;01mnot\u001B[39;00m \u001B[38;5;28;01mNone\u001B[39;00m:\n",
      "File \u001B[0;32m~/anaconda3/envs/eoasweb/lib/python3.10/site-packages/matplotlib/figure.py:3082\u001B[0m, in \u001B[0;36mFigure.draw\u001B[0;34m(self, renderer)\u001B[0m\n\u001B[1;32m   3079\u001B[0m         \u001B[38;5;66;03m# ValueError can occur when resizing a window.\u001B[39;00m\n\u001B[1;32m   3081\u001B[0m \u001B[38;5;28mself\u001B[39m\u001B[38;5;241m.\u001B[39mpatch\u001B[38;5;241m.\u001B[39mdraw(renderer)\n\u001B[0;32m-> 3082\u001B[0m \u001B[43mmimage\u001B[49m\u001B[38;5;241;43m.\u001B[39;49m\u001B[43m_draw_list_compositing_images\u001B[49m\u001B[43m(\u001B[49m\n\u001B[1;32m   3083\u001B[0m \u001B[43m    \u001B[49m\u001B[43mrenderer\u001B[49m\u001B[43m,\u001B[49m\u001B[43m \u001B[49m\u001B[38;5;28;43mself\u001B[39;49m\u001B[43m,\u001B[49m\u001B[43m \u001B[49m\u001B[43martists\u001B[49m\u001B[43m,\u001B[49m\u001B[43m \u001B[49m\u001B[38;5;28;43mself\u001B[39;49m\u001B[38;5;241;43m.\u001B[39;49m\u001B[43msuppressComposite\u001B[49m\u001B[43m)\u001B[49m\n\u001B[1;32m   3085\u001B[0m \u001B[38;5;28;01mfor\u001B[39;00m sfig \u001B[38;5;129;01min\u001B[39;00m \u001B[38;5;28mself\u001B[39m\u001B[38;5;241m.\u001B[39msubfigs:\n\u001B[1;32m   3086\u001B[0m     sfig\u001B[38;5;241m.\u001B[39mdraw(renderer)\n",
      "File \u001B[0;32m~/anaconda3/envs/eoasweb/lib/python3.10/site-packages/matplotlib/image.py:131\u001B[0m, in \u001B[0;36m_draw_list_compositing_images\u001B[0;34m(renderer, parent, artists, suppress_composite)\u001B[0m\n\u001B[1;32m    129\u001B[0m \u001B[38;5;28;01mif\u001B[39;00m not_composite \u001B[38;5;129;01mor\u001B[39;00m \u001B[38;5;129;01mnot\u001B[39;00m has_images:\n\u001B[1;32m    130\u001B[0m     \u001B[38;5;28;01mfor\u001B[39;00m a \u001B[38;5;129;01min\u001B[39;00m artists:\n\u001B[0;32m--> 131\u001B[0m         \u001B[43ma\u001B[49m\u001B[38;5;241;43m.\u001B[39;49m\u001B[43mdraw\u001B[49m\u001B[43m(\u001B[49m\u001B[43mrenderer\u001B[49m\u001B[43m)\u001B[49m\n\u001B[1;32m    132\u001B[0m \u001B[38;5;28;01melse\u001B[39;00m:\n\u001B[1;32m    133\u001B[0m     \u001B[38;5;66;03m# Composite any adjacent images together\u001B[39;00m\n\u001B[1;32m    134\u001B[0m     image_group \u001B[38;5;241m=\u001B[39m []\n",
      "File \u001B[0;32m~/anaconda3/envs/eoasweb/lib/python3.10/site-packages/matplotlib/artist.py:51\u001B[0m, in \u001B[0;36mallow_rasterization.<locals>.draw_wrapper\u001B[0;34m(artist, renderer)\u001B[0m\n\u001B[1;32m     48\u001B[0m     \u001B[38;5;28;01mif\u001B[39;00m artist\u001B[38;5;241m.\u001B[39mget_agg_filter() \u001B[38;5;129;01mis\u001B[39;00m \u001B[38;5;129;01mnot\u001B[39;00m \u001B[38;5;28;01mNone\u001B[39;00m:\n\u001B[1;32m     49\u001B[0m         renderer\u001B[38;5;241m.\u001B[39mstart_filter()\n\u001B[0;32m---> 51\u001B[0m     \u001B[38;5;28;01mreturn\u001B[39;00m \u001B[43mdraw\u001B[49m\u001B[43m(\u001B[49m\u001B[43martist\u001B[49m\u001B[43m,\u001B[49m\u001B[43m \u001B[49m\u001B[43mrenderer\u001B[49m\u001B[43m)\u001B[49m\n\u001B[1;32m     52\u001B[0m \u001B[38;5;28;01mfinally\u001B[39;00m:\n\u001B[1;32m     53\u001B[0m     \u001B[38;5;28;01mif\u001B[39;00m artist\u001B[38;5;241m.\u001B[39mget_agg_filter() \u001B[38;5;129;01mis\u001B[39;00m \u001B[38;5;129;01mnot\u001B[39;00m \u001B[38;5;28;01mNone\u001B[39;00m:\n",
      "File \u001B[0;32m~/anaconda3/envs/eoasweb/lib/python3.10/site-packages/cartopy/mpl/geoaxes.py:543\u001B[0m, in \u001B[0;36mGeoAxes.draw\u001B[0;34m(self, renderer, **kwargs)\u001B[0m\n\u001B[1;32m    535\u001B[0m \u001B[38;5;124;03m\"\"\"\u001B[39;00m\n\u001B[1;32m    536\u001B[0m \u001B[38;5;124;03mExtend the standard behaviour of :func:`matplotlib.axes.Axes.draw`.\u001B[39;00m\n\u001B[1;32m    537\u001B[0m \n\u001B[0;32m   (...)\u001B[0m\n\u001B[1;32m    540\u001B[0m \u001B[38;5;124;03mbeen set.\u001B[39;00m\n\u001B[1;32m    541\u001B[0m \u001B[38;5;124;03m\"\"\"\u001B[39;00m\n\u001B[1;32m    542\u001B[0m \u001B[38;5;66;03m# Shared processing steps\u001B[39;00m\n\u001B[0;32m--> 543\u001B[0m \u001B[38;5;28;43mself\u001B[39;49m\u001B[38;5;241;43m.\u001B[39;49m\u001B[43m_draw_preprocess\u001B[49m\u001B[43m(\u001B[49m\u001B[43mrenderer\u001B[49m\u001B[43m)\u001B[49m\n\u001B[1;32m    545\u001B[0m \u001B[38;5;66;03m# XXX This interface needs a tidy up:\u001B[39;00m\n\u001B[1;32m    546\u001B[0m \u001B[38;5;66;03m#       image drawing on pan/zoom;\u001B[39;00m\n\u001B[1;32m    547\u001B[0m \u001B[38;5;66;03m#       caching the resulting image;\u001B[39;00m\n\u001B[1;32m    548\u001B[0m \u001B[38;5;66;03m#       buffering the result by 10%...;\u001B[39;00m\n\u001B[1;32m    549\u001B[0m \u001B[38;5;28;01mif\u001B[39;00m \u001B[38;5;129;01mnot\u001B[39;00m \u001B[38;5;28mself\u001B[39m\u001B[38;5;241m.\u001B[39m_done_img_factory:\n",
      "File \u001B[0;32m~/anaconda3/envs/eoasweb/lib/python3.10/site-packages/cartopy/mpl/geoaxes.py:509\u001B[0m, in \u001B[0;36mGeoAxes._draw_preprocess\u001B[0;34m(self, renderer)\u001B[0m\n\u001B[1;32m    506\u001B[0m \u001B[38;5;66;03m# If data has been added (i.e. autoscale hasn't been turned off)\u001B[39;00m\n\u001B[1;32m    507\u001B[0m \u001B[38;5;66;03m# then we should autoscale the view.\u001B[39;00m\n\u001B[1;32m    508\u001B[0m \u001B[38;5;28;01mif\u001B[39;00m \u001B[38;5;28mself\u001B[39m\u001B[38;5;241m.\u001B[39mget_autoscale_on() \u001B[38;5;129;01mand\u001B[39;00m \u001B[38;5;28mself\u001B[39m\u001B[38;5;241m.\u001B[39mignore_existing_data_limits:\n\u001B[0;32m--> 509\u001B[0m     \u001B[38;5;28;43mself\u001B[39;49m\u001B[38;5;241;43m.\u001B[39;49m\u001B[43mautoscale_view\u001B[49m\u001B[43m(\u001B[49m\u001B[43m)\u001B[49m\n\u001B[1;32m    511\u001B[0m \u001B[38;5;66;03m# Adjust location of background patch so that new gridlines below are\u001B[39;00m\n\u001B[1;32m    512\u001B[0m \u001B[38;5;66;03m# clipped correctly.\u001B[39;00m\n\u001B[1;32m    513\u001B[0m \u001B[38;5;28mself\u001B[39m\u001B[38;5;241m.\u001B[39mpatch\u001B[38;5;241m.\u001B[39m_adjust_location()\n",
      "File \u001B[0;32m~/anaconda3/envs/eoasweb/lib/python3.10/site-packages/cartopy/mpl/geoaxes.py:946\u001B[0m, in \u001B[0;36mGeoAxes.autoscale_view\u001B[0;34m(self, tight, scalex, scaley)\u001B[0m\n\u001B[1;32m    943\u001B[0m matplotlib\u001B[38;5;241m.\u001B[39maxes\u001B[38;5;241m.\u001B[39mAxes\u001B[38;5;241m.\u001B[39mautoscale_view(\u001B[38;5;28mself\u001B[39m, tight\u001B[38;5;241m=\u001B[39mtight,\n\u001B[1;32m    944\u001B[0m                                     scalex\u001B[38;5;241m=\u001B[39mscalex, scaley\u001B[38;5;241m=\u001B[39mscaley)\n\u001B[1;32m    945\u001B[0m \u001B[38;5;66;03m# Limit the resulting bounds to valid area.\u001B[39;00m\n\u001B[0;32m--> 946\u001B[0m \u001B[38;5;28;01mif\u001B[39;00m scalex \u001B[38;5;129;01mand\u001B[39;00m \u001B[38;5;28;43mself\u001B[39;49m\u001B[38;5;241;43m.\u001B[39;49m\u001B[43m_autoscaleXon\u001B[49m:\n\u001B[1;32m    947\u001B[0m     bounds \u001B[38;5;241m=\u001B[39m \u001B[38;5;28mself\u001B[39m\u001B[38;5;241m.\u001B[39mget_xbound()\n\u001B[1;32m    948\u001B[0m     \u001B[38;5;28mself\u001B[39m\u001B[38;5;241m.\u001B[39mset_xbound(\u001B[38;5;28mmax\u001B[39m(bounds[\u001B[38;5;241m0\u001B[39m], \u001B[38;5;28mself\u001B[39m\u001B[38;5;241m.\u001B[39mprojection\u001B[38;5;241m.\u001B[39mx_limits[\u001B[38;5;241m0\u001B[39m]),\n\u001B[1;32m    949\u001B[0m                     \u001B[38;5;28mmin\u001B[39m(bounds[\u001B[38;5;241m1\u001B[39m], \u001B[38;5;28mself\u001B[39m\u001B[38;5;241m.\u001B[39mprojection\u001B[38;5;241m.\u001B[39mx_limits[\u001B[38;5;241m1\u001B[39m]))\n",
      "\u001B[0;31mAttributeError\u001B[0m: 'GeoAxesSubplot' object has no attribute '_autoscaleXon'"
     ]
    },
    {
     "ename": "AttributeError",
     "evalue": "'GeoAxesSubplot' object has no attribute '_autoscaleXon'",
     "output_type": "error",
     "traceback": [
      "\u001B[0;31m---------------------------------------------------------------------------\u001B[0m",
      "\u001B[0;31mAttributeError\u001B[0m                            Traceback (most recent call last)",
      "File \u001B[0;32m~/.local/lib/python3.10/site-packages/IPython/core/formatters.py:339\u001B[0m, in \u001B[0;36mBaseFormatter.__call__\u001B[0;34m(self, obj)\u001B[0m\n\u001B[1;32m    337\u001B[0m     \u001B[38;5;28;01mpass\u001B[39;00m\n\u001B[1;32m    338\u001B[0m \u001B[38;5;28;01melse\u001B[39;00m:\n\u001B[0;32m--> 339\u001B[0m     \u001B[38;5;28;01mreturn\u001B[39;00m \u001B[43mprinter\u001B[49m\u001B[43m(\u001B[49m\u001B[43mobj\u001B[49m\u001B[43m)\u001B[49m\n\u001B[1;32m    340\u001B[0m \u001B[38;5;66;03m# Finally look for special method names\u001B[39;00m\n\u001B[1;32m    341\u001B[0m method \u001B[38;5;241m=\u001B[39m get_real_method(obj, \u001B[38;5;28mself\u001B[39m\u001B[38;5;241m.\u001B[39mprint_method)\n",
      "File \u001B[0;32m~/.local/lib/python3.10/site-packages/IPython/core/pylabtools.py:151\u001B[0m, in \u001B[0;36mprint_figure\u001B[0;34m(fig, fmt, bbox_inches, base64, **kwargs)\u001B[0m\n\u001B[1;32m    148\u001B[0m     \u001B[38;5;28;01mfrom\u001B[39;00m \u001B[38;5;21;01mmatplotlib\u001B[39;00m\u001B[38;5;21;01m.\u001B[39;00m\u001B[38;5;21;01mbackend_bases\u001B[39;00m \u001B[38;5;28;01mimport\u001B[39;00m FigureCanvasBase\n\u001B[1;32m    149\u001B[0m     FigureCanvasBase(fig)\n\u001B[0;32m--> 151\u001B[0m \u001B[43mfig\u001B[49m\u001B[38;5;241;43m.\u001B[39;49m\u001B[43mcanvas\u001B[49m\u001B[38;5;241;43m.\u001B[39;49m\u001B[43mprint_figure\u001B[49m\u001B[43m(\u001B[49m\u001B[43mbytes_io\u001B[49m\u001B[43m,\u001B[49m\u001B[43m \u001B[49m\u001B[38;5;241;43m*\u001B[39;49m\u001B[38;5;241;43m*\u001B[39;49m\u001B[43mkw\u001B[49m\u001B[43m)\u001B[49m\n\u001B[1;32m    152\u001B[0m data \u001B[38;5;241m=\u001B[39m bytes_io\u001B[38;5;241m.\u001B[39mgetvalue()\n\u001B[1;32m    153\u001B[0m \u001B[38;5;28;01mif\u001B[39;00m fmt \u001B[38;5;241m==\u001B[39m \u001B[38;5;124m'\u001B[39m\u001B[38;5;124msvg\u001B[39m\u001B[38;5;124m'\u001B[39m:\n",
      "File \u001B[0;32m~/anaconda3/envs/eoasweb/lib/python3.10/site-packages/matplotlib/backend_bases.py:2314\u001B[0m, in \u001B[0;36mFigureCanvasBase.print_figure\u001B[0;34m(self, filename, dpi, facecolor, edgecolor, orientation, format, bbox_inches, pad_inches, bbox_extra_artists, backend, **kwargs)\u001B[0m\n\u001B[1;32m   2308\u001B[0m     renderer \u001B[38;5;241m=\u001B[39m _get_renderer(\n\u001B[1;32m   2309\u001B[0m         \u001B[38;5;28mself\u001B[39m\u001B[38;5;241m.\u001B[39mfigure,\n\u001B[1;32m   2310\u001B[0m         functools\u001B[38;5;241m.\u001B[39mpartial(\n\u001B[1;32m   2311\u001B[0m             print_method, orientation\u001B[38;5;241m=\u001B[39morientation)\n\u001B[1;32m   2312\u001B[0m     )\n\u001B[1;32m   2313\u001B[0m     \u001B[38;5;28;01mwith\u001B[39;00m \u001B[38;5;28mgetattr\u001B[39m(renderer, \u001B[38;5;124m\"\u001B[39m\u001B[38;5;124m_draw_disabled\u001B[39m\u001B[38;5;124m\"\u001B[39m, nullcontext)():\n\u001B[0;32m-> 2314\u001B[0m         \u001B[38;5;28;43mself\u001B[39;49m\u001B[38;5;241;43m.\u001B[39;49m\u001B[43mfigure\u001B[49m\u001B[38;5;241;43m.\u001B[39;49m\u001B[43mdraw\u001B[49m\u001B[43m(\u001B[49m\u001B[43mrenderer\u001B[49m\u001B[43m)\u001B[49m\n\u001B[1;32m   2316\u001B[0m \u001B[38;5;28;01mif\u001B[39;00m bbox_inches:\n\u001B[1;32m   2317\u001B[0m     \u001B[38;5;28;01mif\u001B[39;00m bbox_inches \u001B[38;5;241m==\u001B[39m \u001B[38;5;124m\"\u001B[39m\u001B[38;5;124mtight\u001B[39m\u001B[38;5;124m\"\u001B[39m:\n",
      "File \u001B[0;32m~/anaconda3/envs/eoasweb/lib/python3.10/site-packages/matplotlib/artist.py:74\u001B[0m, in \u001B[0;36m_finalize_rasterization.<locals>.draw_wrapper\u001B[0;34m(artist, renderer, *args, **kwargs)\u001B[0m\n\u001B[1;32m     72\u001B[0m \u001B[38;5;129m@wraps\u001B[39m(draw)\n\u001B[1;32m     73\u001B[0m \u001B[38;5;28;01mdef\u001B[39;00m \u001B[38;5;21mdraw_wrapper\u001B[39m(artist, renderer, \u001B[38;5;241m*\u001B[39margs, \u001B[38;5;241m*\u001B[39m\u001B[38;5;241m*\u001B[39mkwargs):\n\u001B[0;32m---> 74\u001B[0m     result \u001B[38;5;241m=\u001B[39m \u001B[43mdraw\u001B[49m\u001B[43m(\u001B[49m\u001B[43martist\u001B[49m\u001B[43m,\u001B[49m\u001B[43m \u001B[49m\u001B[43mrenderer\u001B[49m\u001B[43m,\u001B[49m\u001B[43m \u001B[49m\u001B[38;5;241;43m*\u001B[39;49m\u001B[43margs\u001B[49m\u001B[43m,\u001B[49m\u001B[43m \u001B[49m\u001B[38;5;241;43m*\u001B[39;49m\u001B[38;5;241;43m*\u001B[39;49m\u001B[43mkwargs\u001B[49m\u001B[43m)\u001B[49m\n\u001B[1;32m     75\u001B[0m     \u001B[38;5;28;01mif\u001B[39;00m renderer\u001B[38;5;241m.\u001B[39m_rasterizing:\n\u001B[1;32m     76\u001B[0m         renderer\u001B[38;5;241m.\u001B[39mstop_rasterizing()\n",
      "File \u001B[0;32m~/anaconda3/envs/eoasweb/lib/python3.10/site-packages/matplotlib/artist.py:51\u001B[0m, in \u001B[0;36mallow_rasterization.<locals>.draw_wrapper\u001B[0;34m(artist, renderer)\u001B[0m\n\u001B[1;32m     48\u001B[0m     \u001B[38;5;28;01mif\u001B[39;00m artist\u001B[38;5;241m.\u001B[39mget_agg_filter() \u001B[38;5;129;01mis\u001B[39;00m \u001B[38;5;129;01mnot\u001B[39;00m \u001B[38;5;28;01mNone\u001B[39;00m:\n\u001B[1;32m     49\u001B[0m         renderer\u001B[38;5;241m.\u001B[39mstart_filter()\n\u001B[0;32m---> 51\u001B[0m     \u001B[38;5;28;01mreturn\u001B[39;00m \u001B[43mdraw\u001B[49m\u001B[43m(\u001B[49m\u001B[43martist\u001B[49m\u001B[43m,\u001B[49m\u001B[43m \u001B[49m\u001B[43mrenderer\u001B[49m\u001B[43m)\u001B[49m\n\u001B[1;32m     52\u001B[0m \u001B[38;5;28;01mfinally\u001B[39;00m:\n\u001B[1;32m     53\u001B[0m     \u001B[38;5;28;01mif\u001B[39;00m artist\u001B[38;5;241m.\u001B[39mget_agg_filter() \u001B[38;5;129;01mis\u001B[39;00m \u001B[38;5;129;01mnot\u001B[39;00m \u001B[38;5;28;01mNone\u001B[39;00m:\n",
      "File \u001B[0;32m~/anaconda3/envs/eoasweb/lib/python3.10/site-packages/matplotlib/figure.py:3082\u001B[0m, in \u001B[0;36mFigure.draw\u001B[0;34m(self, renderer)\u001B[0m\n\u001B[1;32m   3079\u001B[0m         \u001B[38;5;66;03m# ValueError can occur when resizing a window.\u001B[39;00m\n\u001B[1;32m   3081\u001B[0m \u001B[38;5;28mself\u001B[39m\u001B[38;5;241m.\u001B[39mpatch\u001B[38;5;241m.\u001B[39mdraw(renderer)\n\u001B[0;32m-> 3082\u001B[0m \u001B[43mmimage\u001B[49m\u001B[38;5;241;43m.\u001B[39;49m\u001B[43m_draw_list_compositing_images\u001B[49m\u001B[43m(\u001B[49m\n\u001B[1;32m   3083\u001B[0m \u001B[43m    \u001B[49m\u001B[43mrenderer\u001B[49m\u001B[43m,\u001B[49m\u001B[43m \u001B[49m\u001B[38;5;28;43mself\u001B[39;49m\u001B[43m,\u001B[49m\u001B[43m \u001B[49m\u001B[43martists\u001B[49m\u001B[43m,\u001B[49m\u001B[43m \u001B[49m\u001B[38;5;28;43mself\u001B[39;49m\u001B[38;5;241;43m.\u001B[39;49m\u001B[43msuppressComposite\u001B[49m\u001B[43m)\u001B[49m\n\u001B[1;32m   3085\u001B[0m \u001B[38;5;28;01mfor\u001B[39;00m sfig \u001B[38;5;129;01min\u001B[39;00m \u001B[38;5;28mself\u001B[39m\u001B[38;5;241m.\u001B[39msubfigs:\n\u001B[1;32m   3086\u001B[0m     sfig\u001B[38;5;241m.\u001B[39mdraw(renderer)\n",
      "File \u001B[0;32m~/anaconda3/envs/eoasweb/lib/python3.10/site-packages/matplotlib/image.py:131\u001B[0m, in \u001B[0;36m_draw_list_compositing_images\u001B[0;34m(renderer, parent, artists, suppress_composite)\u001B[0m\n\u001B[1;32m    129\u001B[0m \u001B[38;5;28;01mif\u001B[39;00m not_composite \u001B[38;5;129;01mor\u001B[39;00m \u001B[38;5;129;01mnot\u001B[39;00m has_images:\n\u001B[1;32m    130\u001B[0m     \u001B[38;5;28;01mfor\u001B[39;00m a \u001B[38;5;129;01min\u001B[39;00m artists:\n\u001B[0;32m--> 131\u001B[0m         \u001B[43ma\u001B[49m\u001B[38;5;241;43m.\u001B[39;49m\u001B[43mdraw\u001B[49m\u001B[43m(\u001B[49m\u001B[43mrenderer\u001B[49m\u001B[43m)\u001B[49m\n\u001B[1;32m    132\u001B[0m \u001B[38;5;28;01melse\u001B[39;00m:\n\u001B[1;32m    133\u001B[0m     \u001B[38;5;66;03m# Composite any adjacent images together\u001B[39;00m\n\u001B[1;32m    134\u001B[0m     image_group \u001B[38;5;241m=\u001B[39m []\n",
      "File \u001B[0;32m~/anaconda3/envs/eoasweb/lib/python3.10/site-packages/matplotlib/artist.py:51\u001B[0m, in \u001B[0;36mallow_rasterization.<locals>.draw_wrapper\u001B[0;34m(artist, renderer)\u001B[0m\n\u001B[1;32m     48\u001B[0m     \u001B[38;5;28;01mif\u001B[39;00m artist\u001B[38;5;241m.\u001B[39mget_agg_filter() \u001B[38;5;129;01mis\u001B[39;00m \u001B[38;5;129;01mnot\u001B[39;00m \u001B[38;5;28;01mNone\u001B[39;00m:\n\u001B[1;32m     49\u001B[0m         renderer\u001B[38;5;241m.\u001B[39mstart_filter()\n\u001B[0;32m---> 51\u001B[0m     \u001B[38;5;28;01mreturn\u001B[39;00m \u001B[43mdraw\u001B[49m\u001B[43m(\u001B[49m\u001B[43martist\u001B[49m\u001B[43m,\u001B[49m\u001B[43m \u001B[49m\u001B[43mrenderer\u001B[49m\u001B[43m)\u001B[49m\n\u001B[1;32m     52\u001B[0m \u001B[38;5;28;01mfinally\u001B[39;00m:\n\u001B[1;32m     53\u001B[0m     \u001B[38;5;28;01mif\u001B[39;00m artist\u001B[38;5;241m.\u001B[39mget_agg_filter() \u001B[38;5;129;01mis\u001B[39;00m \u001B[38;5;129;01mnot\u001B[39;00m \u001B[38;5;28;01mNone\u001B[39;00m:\n",
      "File \u001B[0;32m~/anaconda3/envs/eoasweb/lib/python3.10/site-packages/cartopy/mpl/geoaxes.py:543\u001B[0m, in \u001B[0;36mGeoAxes.draw\u001B[0;34m(self, renderer, **kwargs)\u001B[0m\n\u001B[1;32m    535\u001B[0m \u001B[38;5;124;03m\"\"\"\u001B[39;00m\n\u001B[1;32m    536\u001B[0m \u001B[38;5;124;03mExtend the standard behaviour of :func:`matplotlib.axes.Axes.draw`.\u001B[39;00m\n\u001B[1;32m    537\u001B[0m \n\u001B[0;32m   (...)\u001B[0m\n\u001B[1;32m    540\u001B[0m \u001B[38;5;124;03mbeen set.\u001B[39;00m\n\u001B[1;32m    541\u001B[0m \u001B[38;5;124;03m\"\"\"\u001B[39;00m\n\u001B[1;32m    542\u001B[0m \u001B[38;5;66;03m# Shared processing steps\u001B[39;00m\n\u001B[0;32m--> 543\u001B[0m \u001B[38;5;28;43mself\u001B[39;49m\u001B[38;5;241;43m.\u001B[39;49m\u001B[43m_draw_preprocess\u001B[49m\u001B[43m(\u001B[49m\u001B[43mrenderer\u001B[49m\u001B[43m)\u001B[49m\n\u001B[1;32m    545\u001B[0m \u001B[38;5;66;03m# XXX This interface needs a tidy up:\u001B[39;00m\n\u001B[1;32m    546\u001B[0m \u001B[38;5;66;03m#       image drawing on pan/zoom;\u001B[39;00m\n\u001B[1;32m    547\u001B[0m \u001B[38;5;66;03m#       caching the resulting image;\u001B[39;00m\n\u001B[1;32m    548\u001B[0m \u001B[38;5;66;03m#       buffering the result by 10%...;\u001B[39;00m\n\u001B[1;32m    549\u001B[0m \u001B[38;5;28;01mif\u001B[39;00m \u001B[38;5;129;01mnot\u001B[39;00m \u001B[38;5;28mself\u001B[39m\u001B[38;5;241m.\u001B[39m_done_img_factory:\n",
      "File \u001B[0;32m~/anaconda3/envs/eoasweb/lib/python3.10/site-packages/cartopy/mpl/geoaxes.py:509\u001B[0m, in \u001B[0;36mGeoAxes._draw_preprocess\u001B[0;34m(self, renderer)\u001B[0m\n\u001B[1;32m    506\u001B[0m \u001B[38;5;66;03m# If data has been added (i.e. autoscale hasn't been turned off)\u001B[39;00m\n\u001B[1;32m    507\u001B[0m \u001B[38;5;66;03m# then we should autoscale the view.\u001B[39;00m\n\u001B[1;32m    508\u001B[0m \u001B[38;5;28;01mif\u001B[39;00m \u001B[38;5;28mself\u001B[39m\u001B[38;5;241m.\u001B[39mget_autoscale_on() \u001B[38;5;129;01mand\u001B[39;00m \u001B[38;5;28mself\u001B[39m\u001B[38;5;241m.\u001B[39mignore_existing_data_limits:\n\u001B[0;32m--> 509\u001B[0m     \u001B[38;5;28;43mself\u001B[39;49m\u001B[38;5;241;43m.\u001B[39;49m\u001B[43mautoscale_view\u001B[49m\u001B[43m(\u001B[49m\u001B[43m)\u001B[49m\n\u001B[1;32m    511\u001B[0m \u001B[38;5;66;03m# Adjust location of background patch so that new gridlines below are\u001B[39;00m\n\u001B[1;32m    512\u001B[0m \u001B[38;5;66;03m# clipped correctly.\u001B[39;00m\n\u001B[1;32m    513\u001B[0m \u001B[38;5;28mself\u001B[39m\u001B[38;5;241m.\u001B[39mpatch\u001B[38;5;241m.\u001B[39m_adjust_location()\n",
      "File \u001B[0;32m~/anaconda3/envs/eoasweb/lib/python3.10/site-packages/cartopy/mpl/geoaxes.py:946\u001B[0m, in \u001B[0;36mGeoAxes.autoscale_view\u001B[0;34m(self, tight, scalex, scaley)\u001B[0m\n\u001B[1;32m    943\u001B[0m matplotlib\u001B[38;5;241m.\u001B[39maxes\u001B[38;5;241m.\u001B[39mAxes\u001B[38;5;241m.\u001B[39mautoscale_view(\u001B[38;5;28mself\u001B[39m, tight\u001B[38;5;241m=\u001B[39mtight,\n\u001B[1;32m    944\u001B[0m                                     scalex\u001B[38;5;241m=\u001B[39mscalex, scaley\u001B[38;5;241m=\u001B[39mscaley)\n\u001B[1;32m    945\u001B[0m \u001B[38;5;66;03m# Limit the resulting bounds to valid area.\u001B[39;00m\n\u001B[0;32m--> 946\u001B[0m \u001B[38;5;28;01mif\u001B[39;00m scalex \u001B[38;5;129;01mand\u001B[39;00m \u001B[38;5;28;43mself\u001B[39;49m\u001B[38;5;241;43m.\u001B[39;49m\u001B[43m_autoscaleXon\u001B[49m:\n\u001B[1;32m    947\u001B[0m     bounds \u001B[38;5;241m=\u001B[39m \u001B[38;5;28mself\u001B[39m\u001B[38;5;241m.\u001B[39mget_xbound()\n\u001B[1;32m    948\u001B[0m     \u001B[38;5;28mself\u001B[39m\u001B[38;5;241m.\u001B[39mset_xbound(\u001B[38;5;28mmax\u001B[39m(bounds[\u001B[38;5;241m0\u001B[39m], \u001B[38;5;28mself\u001B[39m\u001B[38;5;241m.\u001B[39mprojection\u001B[38;5;241m.\u001B[39mx_limits[\u001B[38;5;241m0\u001B[39m]),\n\u001B[1;32m    949\u001B[0m                     \u001B[38;5;28mmin\u001B[39m(bounds[\u001B[38;5;241m1\u001B[39m], \u001B[38;5;28mself\u001B[39m\u001B[38;5;241m.\u001B[39mprojection\u001B[38;5;241m.\u001B[39mx_limits[\u001B[38;5;241m1\u001B[39m]))\n",
      "\u001B[0;31mAttributeError\u001B[0m: 'GeoAxesSubplot' object has no attribute '_autoscaleXon'"
     ]
    },
    {
     "data": {
      "text/plain": [
       "<Figure size 2000x1300 with 4 Axes>"
      ]
     },
     "metadata": {},
     "output_type": "display_data"
    }
   ],
   "source": [
    "\n",
    "# Make a video of 2019 to 2021\n",
    "start_date = date(2019,1,1)\n",
    "end_date = date(2019,1,3)\n",
    "\n",
    "cur_date = start_date\n",
    "while cur_date < end_date:\n",
    "    fig, axs = plt.subplots(2, 2, figsize=(20, 13), subplot_kw={'projection': ccrs.PlateCarree()})\n",
    "    file_name = join(\"/Net/work/ozavala/GOFFISH/imgs/SatelliteDataComparison\", cur_date.strftime(\"%Y-%m-%d\"))\n",
    "    adt, sss, sst, chlora = read_day(cur_date)\n",
    "    fig = plotData(fig, axs, adt, sss, sst, chlora)\n",
    "    plt.savefig(file_name)\n",
    "    print(f\"Done saving {cur_date}\", flush=True)\n",
    "    cur_date += timedelta(days=1)\n",
    "    plt.close()\n",
    "    "
   ]
  },
  {
   "cell_type": "code",
   "execution_count": 66,
   "id": "e96d7433-6586-45e8-868c-695aa1f21011",
   "metadata": {},
   "outputs": [
    {
     "data": {
      "application/vnd.jupyter.widget-view+json": {
       "model_id": "e63413b867e44d43bec302ea8f38958e",
       "version_major": 2,
       "version_minor": 0
      },
      "text/plain": [
       "interactive(children=(DatePicker(value=datetime.date(2019, 1, 1), description='Pick a Date', step=1), Output()…"
      ]
     },
     "metadata": {},
     "output_type": "display_data"
    }
   ],
   "source": [
    "@interact(cur_date=widgets.DatePicker(description='Pick a Date', disabled=False, value=date(2019,1,1)))\n",
    "def plotDay(cur_date):\n",
    "    adt, sss, sst, chlora = read_day(cur_date)\n",
    "    plotData(adt, sss, sst, chlora)"
   ]
  },
  {
   "cell_type": "code",
   "execution_count": null,
   "id": "dc98dbd8-af4d-4b06-909c-b01b43deedfd",
   "metadata": {},
   "outputs": [],
   "source": []
  }
 ],
 "metadata": {
  "kernelspec": {
   "display_name": "Python 3 (ipykernel)",
   "language": "python",
   "name": "python3"
  },
  "language_info": {
   "codemirror_mode": {
    "name": "ipython",
    "version": 3
   },
   "file_extension": ".py",
   "mimetype": "text/x-python",
   "name": "python",
   "nbconvert_exporter": "python",
   "pygments_lexer": "ipython3",
   "version": "3.10.8"
  }
 },
 "nbformat": 4,
 "nbformat_minor": 5
}
