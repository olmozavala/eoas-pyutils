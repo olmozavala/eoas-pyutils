{
 "cells": [
  {
   "cell_type": "code",
   "execution_count": 1,
   "id": "3a48f34a-29db-4bca-ac28-ec266a994727",
   "metadata": {},
   "outputs": [],
   "source": [
    "import ipywidgets as widgets\n",
    "from ipywidgets import interact, interactive, fixed, interact_manual\n",
    "import numpy as np\n",
    "import matplotlib.pyplot as plt\n",
    "from matplotlib.colors import LogNorm\n",
    "from os.path import join\n",
    "import os\n",
    "import cmocean.cm as cm\n",
    "import cartopy.crs as ccrs\n",
    "from datetime import datetime, timedelta, date\n",
    "import xarray as xr\n",
    "import sys\n",
    "sys.path.append(\"../\")\n",
    "from proc_utils.gom import lc_from_ssh"
   ]
  },
  {
   "cell_type": "markdown",
   "id": "5efbf7f4-e803-4c64-bd20-bae1160a1e97",
   "metadata": {},
   "source": [
    "# Define dates and domain"
   ]
  },
  {
   "cell_type": "code",
   "execution_count": 2,
   "id": "9b1767b9-159f-4382-93aa-2c2a99c56d04",
   "metadata": {},
   "outputs": [],
   "source": [
    "root_folder = \"/Net/work/ozavala/GOFFISH/\"\n",
    "\n",
    "sss_path = \"SSS/SMAP_Global\"\n",
    "adt_path = \"AVISO\"\n",
    "sst_path = \"SST/OISST\"\n",
    "chlora_path = \"CHLORA/NOAA\"\n",
    "\n",
    "start_date = datetime.strptime(\"2020-01-01\", \"%Y-%m-%d\")\n",
    "end_date = datetime.strptime(\"2021-01-01\", \"%Y-%m-%d\")\n",
    "cur_date = start_date\n",
    "\n",
    "bbox = (-99, -74, 17, 31)\n",
    "# bbox= (-91, -80, 20, 28)\n",
    "lon = (bbox[0], bbox[1])\n",
    "lon_360 = (360 + bbox[0], 360 + bbox[1])\n",
    "lat = (bbox[2], bbox[3])"
   ]
  },
  {
   "cell_type": "markdown",
   "id": "1084a2e9-7e7b-4022-97e8-e8b55f608edb",
   "metadata": {},
   "source": [
    "# Read and crop data function"
   ]
  },
  {
   "cell_type": "code",
   "execution_count": 4,
   "id": "d69f6df9-5c91-4f14-8983-8dc20bdb17e1",
   "metadata": {},
   "outputs": [],
   "source": [
    "# ------------------------ For speed testing ----------------\n",
    "def read_day(cur_date):\n",
    "    year = cur_date.year\n",
    "    month = cur_date.month\n",
    "    day_year = cur_date.timetuple().tm_yday\n",
    "    day_month = cur_date.day\n",
    "    \n",
    "    sss_file = join(root_folder, sss_path, str(year), f\"RSS_smap_SSS_L3_8day_running_{year}_{day_year:03d}_FNL_v05.0.nc\")\n",
    "    adt_file = join(root_folder, adt_path, f\"{year}-{month:02d}.nc\")\n",
    "    sst_file = join(root_folder, sst_path, str(year), f\"{year}{month:02d}{day_month:02d}090000-JPL-L4_GHRSST-SSTfnd-MUR-GLOB-v02.0-fv04.1_subset.nc\")\n",
    "    chlora_file = join(root_folder, chlora_path, f\"{year}-{month:02d}-{day_month:02d}.nc\")\n",
    "\n",
    "    assert os.path.exists(sss_file)\n",
    "    assert os.path.exists(adt_file)\n",
    "    assert os.path.exists(sst_file)\n",
    "    assert os.path.exists(chlora_file)\n",
    "\n",
    "    # Reading data\n",
    "    print(\"Reading...\", flush=True)\n",
    "    sss_orig = xr.load_dataset(sss_file)\n",
    "    adt_orig = xr.load_dataset(adt_file)\n",
    "    sst_orig = xr.load_dataset(sst_file)\n",
    "    chlora_orig = xr.load_dataset(chlora_file)\n",
    "\n",
    "    # Cropping to the same domain\n",
    "    print(\"Cropping...\", flush=True)\n",
    "    adt = adt_orig.sel(latitude=slice(lat[0], lat[1]), longitude=slice(lon[0], lon[1]))\n",
    "    sss = sss_orig.sel(lat=slice(lat[0], lat[1]), lon=slice(lon_360[0], lon_360[1]))\n",
    "    sst = sst_orig.sel(lat=slice(lat[0], lat[1]), lon=slice(lon[0], lon[1]))\n",
    "    chlora = chlora_orig.sel(latitude=slice(lat[1], lat[0]), longitude=slice(lon[0], lon[1]))  # For some reason latitude is flipped\n",
    "    \n",
    "    sss_orig.close()\n",
    "    adt_orig.close()\n",
    "    sst_orig.close()\n",
    "    chlora_orig.close()\n",
    "    \n",
    "    adt_slice = adt.adt[day_month,:,:]\n",
    "    sss_slice = sss.sss_smap_40km[:,:]\n",
    "    sst_slice = sst.analysed_sst[0,:,:]\n",
    "    chlora_slice = chlora.chlor_a[0,0,:,:]\n",
    "    \n",
    "    # Computing LC\n",
    "    print(\"Computing LC...\", flush=True)\n",
    "    lats_adt = adt.latitude\n",
    "    lons_adt = adt.longitude\n",
    "    lc = lc_from_ssh(adt_slice.values, lons_adt, lats_adt)\n",
    "    \n",
    "    return adt_slice, sss_slice, sst_slice, chlora_slice, LineString(list(lc))"
   ]
  },
  {
   "cell_type": "markdown",
   "id": "f2315c21-8f55-449d-8fd2-954a1432b853",
   "metadata": {},
   "source": [
    "# Plot function"
   ]
  },
  {
   "cell_type": "code",
   "execution_count": 5,
   "id": "9a6c1827-1ca0-4eee-9b67-6626368b1c5b",
   "metadata": {},
   "outputs": [],
   "source": [
    "def plotData(fig, axs, adt, sss, sst, chlora, lc):\n",
    "    \n",
    "    print(\"Plotting...\", flush=True) \n",
    "    # Plot each slice\n",
    "    im_adt = axs[0][0].imshow(adt, origin='lower', cmap=cm.balance, extent=bbox, transform=ccrs.PlateCarree())\n",
    "    im_sss = axs[0][1].imshow(sss, origin='lower', cmap=cm.haline, norm=LogNorm(vmin=30, vmax=38), extent=bbox, transform=ccrs.PlateCarree())\n",
    "    im_sst = axs[1][0].imshow(sst, origin='lower', cmap=cm.thermal,  extent=bbox, transform=ccrs.PlateCarree())\n",
    "    im_chlor_a = axs[1][1].imshow(chlora, origin='upper', cmap=cm.algae, norm=LogNorm(vmin=.15, vmax=.3), extent=bbox, transform=ccrs.PlateCarree())\n",
    "    \n",
    "    # Add LC\n",
    "    for c_polygon in lc:\n",
    "        x, y = c_polygon.xy\n",
    "        \n",
    "#     axs[0][0].scatter(x, y, transform=self._projection, c='r')\n",
    "#     axs[0][1].scatter(x, y, transform=self._projection, c='r')\n",
    "#     axs[1][0].scatter(x, y, transform=self._projection, c='r')\n",
    "#     axs[1][1].scatter(x, y, transform=self._projection, c='r')\n",
    "\n",
    "    # Set titles\n",
    "    axs[0][0].set_title(\"ADT\")\n",
    "    axs[0][1].set_title(\"SSS\")\n",
    "    axs[1][0].set_title(\"SST\")\n",
    "    axs[1][1].set_title(\"CHLORA \")\n",
    "\n",
    "    # Assign gridlines\n",
    "    for ax in fig.get_axes():\n",
    "        gl = ax.gridlines(draw_labels=True, color='grey', alpha=0.5, linestyle='--')\n",
    "        gl.top_labels = False\n",
    "        gl.left_labels = False\n",
    "\n",
    "    # Add colorbars \n",
    "    shrink = 0.7\n",
    "    fig.colorbar(im_adt, ax=axs[0][0], shrink=shrink)\n",
    "    fig.colorbar(im_sss, ax=axs[0][1], shrink=shrink)\n",
    "    fig.colorbar(im_sst, ax=axs[1][0], shrink=shrink)\n",
    "    fig.colorbar(im_chlor_a, ax=axs[1][1], shrink=shrink)\n",
    "\n",
    "    plt.suptitle(cur_date)\n",
    "    plt.tight_layout(pad=1.5)\n",
    "    \n",
    "    return fig"
   ]
  },
  {
   "cell_type": "markdown",
   "id": "5bd14ed0-047b-4c28-9373-377642e4b262",
   "metadata": {},
   "source": [
    "# Save plots as images"
   ]
  },
  {
   "cell_type": "code",
   "execution_count": 6,
   "id": "bd117555-28f6-41da-a43b-ac9e7f7ede99",
   "metadata": {},
   "outputs": [
    {
     "name": "stdout",
     "output_type": "stream",
     "text": [
      "Reading...\n"
     ]
    },
    {
     "ename": "ValueError",
     "evalue": "found the following matches with the input file in xarray's IO backends: ['netcdf4', 'h5netcdf']. But their dependencies may not be installed, see:\nhttps://docs.xarray.dev/en/stable/user-guide/io.html \nhttps://docs.xarray.dev/en/stable/getting-started-guide/installing.html",
     "output_type": "error",
     "traceback": [
      "\u001B[0;31m---------------------------------------------------------------------------\u001B[0m",
      "\u001B[0;31mValueError\u001B[0m                                Traceback (most recent call last)",
      "Cell \u001B[0;32mIn[6], line 9\u001B[0m\n\u001B[1;32m      7\u001B[0m fig, axs \u001B[38;5;241m=\u001B[39m plt\u001B[38;5;241m.\u001B[39msubplots(\u001B[38;5;241m2\u001B[39m, \u001B[38;5;241m2\u001B[39m, figsize\u001B[38;5;241m=\u001B[39m(\u001B[38;5;241m20\u001B[39m, \u001B[38;5;241m13\u001B[39m), subplot_kw\u001B[38;5;241m=\u001B[39m{\u001B[38;5;124m'\u001B[39m\u001B[38;5;124mprojection\u001B[39m\u001B[38;5;124m'\u001B[39m: ccrs\u001B[38;5;241m.\u001B[39mPlateCarree()})\n\u001B[1;32m      8\u001B[0m file_name \u001B[38;5;241m=\u001B[39m join(\u001B[38;5;124m\"\u001B[39m\u001B[38;5;124m/Net/work/ozavala/GOFFISH/imgs/SatelliteDataComparison\u001B[39m\u001B[38;5;124m\"\u001B[39m, cur_date\u001B[38;5;241m.\u001B[39mstrftime(\u001B[38;5;124m\"\u001B[39m\u001B[38;5;124m%\u001B[39m\u001B[38;5;124mY-\u001B[39m\u001B[38;5;124m%\u001B[39m\u001B[38;5;124mm-\u001B[39m\u001B[38;5;132;01m%d\u001B[39;00m\u001B[38;5;124m\"\u001B[39m))\n\u001B[0;32m----> 9\u001B[0m adt, sss, sst, chlora, lc \u001B[38;5;241m=\u001B[39m \u001B[43mread_day\u001B[49m\u001B[43m(\u001B[49m\u001B[43mcur_date\u001B[49m\u001B[43m)\u001B[49m\n\u001B[1;32m     10\u001B[0m fig \u001B[38;5;241m=\u001B[39m plotData(fig, axs, adt, sss, sst, chlora, lc)\n\u001B[1;32m     11\u001B[0m plt\u001B[38;5;241m.\u001B[39mshow()\n",
      "Cell \u001B[0;32mIn[4], line 20\u001B[0m, in \u001B[0;36mread_day\u001B[0;34m(cur_date)\u001B[0m\n\u001B[1;32m     18\u001B[0m \u001B[38;5;66;03m# Reading data\u001B[39;00m\n\u001B[1;32m     19\u001B[0m \u001B[38;5;28mprint\u001B[39m(\u001B[38;5;124m\"\u001B[39m\u001B[38;5;124mReading...\u001B[39m\u001B[38;5;124m\"\u001B[39m, flush\u001B[38;5;241m=\u001B[39m\u001B[38;5;28;01mTrue\u001B[39;00m)\n\u001B[0;32m---> 20\u001B[0m sss_orig \u001B[38;5;241m=\u001B[39m \u001B[43mxr\u001B[49m\u001B[38;5;241;43m.\u001B[39;49m\u001B[43mload_dataset\u001B[49m\u001B[43m(\u001B[49m\u001B[43msss_file\u001B[49m\u001B[43m)\u001B[49m\n\u001B[1;32m     21\u001B[0m adt_orig \u001B[38;5;241m=\u001B[39m xr\u001B[38;5;241m.\u001B[39mload_dataset(adt_file)\n\u001B[1;32m     22\u001B[0m sst_orig \u001B[38;5;241m=\u001B[39m xr\u001B[38;5;241m.\u001B[39mload_dataset(sst_file)\n",
      "File \u001B[0;32m~/anaconda3/envs/aieoas/lib/python3.8/site-packages/xarray/backends/api.py:279\u001B[0m, in \u001B[0;36mload_dataset\u001B[0;34m(filename_or_obj, **kwargs)\u001B[0m\n\u001B[1;32m    276\u001B[0m \u001B[38;5;28;01mif\u001B[39;00m \u001B[38;5;124m\"\u001B[39m\u001B[38;5;124mcache\u001B[39m\u001B[38;5;124m\"\u001B[39m \u001B[38;5;129;01min\u001B[39;00m kwargs:\n\u001B[1;32m    277\u001B[0m     \u001B[38;5;28;01mraise\u001B[39;00m \u001B[38;5;167;01mTypeError\u001B[39;00m(\u001B[38;5;124m\"\u001B[39m\u001B[38;5;124mcache has no effect in this context\u001B[39m\u001B[38;5;124m\"\u001B[39m)\n\u001B[0;32m--> 279\u001B[0m \u001B[38;5;28;01mwith\u001B[39;00m \u001B[43mopen_dataset\u001B[49m\u001B[43m(\u001B[49m\u001B[43mfilename_or_obj\u001B[49m\u001B[43m,\u001B[49m\u001B[43m \u001B[49m\u001B[38;5;241;43m*\u001B[39;49m\u001B[38;5;241;43m*\u001B[39;49m\u001B[43mkwargs\u001B[49m\u001B[43m)\u001B[49m \u001B[38;5;28;01mas\u001B[39;00m ds:\n\u001B[1;32m    280\u001B[0m     \u001B[38;5;28;01mreturn\u001B[39;00m ds\u001B[38;5;241m.\u001B[39mload()\n",
      "File \u001B[0;32m~/anaconda3/envs/aieoas/lib/python3.8/site-packages/xarray/backends/api.py:524\u001B[0m, in \u001B[0;36mopen_dataset\u001B[0;34m(filename_or_obj, engine, chunks, cache, decode_cf, mask_and_scale, decode_times, decode_timedelta, use_cftime, concat_characters, decode_coords, drop_variables, inline_array, backend_kwargs, **kwargs)\u001B[0m\n\u001B[1;32m    521\u001B[0m     kwargs\u001B[38;5;241m.\u001B[39mupdate(backend_kwargs)\n\u001B[1;32m    523\u001B[0m \u001B[38;5;28;01mif\u001B[39;00m engine \u001B[38;5;129;01mis\u001B[39;00m \u001B[38;5;28;01mNone\u001B[39;00m:\n\u001B[0;32m--> 524\u001B[0m     engine \u001B[38;5;241m=\u001B[39m \u001B[43mplugins\u001B[49m\u001B[38;5;241;43m.\u001B[39;49m\u001B[43mguess_engine\u001B[49m\u001B[43m(\u001B[49m\u001B[43mfilename_or_obj\u001B[49m\u001B[43m)\u001B[49m\n\u001B[1;32m    526\u001B[0m backend \u001B[38;5;241m=\u001B[39m plugins\u001B[38;5;241m.\u001B[39mget_backend(engine)\n\u001B[1;32m    528\u001B[0m decoders \u001B[38;5;241m=\u001B[39m _resolve_decoders_kwargs(\n\u001B[1;32m    529\u001B[0m     decode_cf,\n\u001B[1;32m    530\u001B[0m     open_backend_dataset_parameters\u001B[38;5;241m=\u001B[39mbackend\u001B[38;5;241m.\u001B[39mopen_dataset_parameters,\n\u001B[0;32m   (...)\u001B[0m\n\u001B[1;32m    536\u001B[0m     decode_coords\u001B[38;5;241m=\u001B[39mdecode_coords,\n\u001B[1;32m    537\u001B[0m )\n",
      "File \u001B[0;32m~/anaconda3/envs/aieoas/lib/python3.8/site-packages/xarray/backends/plugins.py:177\u001B[0m, in \u001B[0;36mguess_engine\u001B[0;34m(store_spec)\u001B[0m\n\u001B[1;32m    169\u001B[0m \u001B[38;5;28;01melse\u001B[39;00m:\n\u001B[1;32m    170\u001B[0m     error_msg \u001B[38;5;241m=\u001B[39m (\n\u001B[1;32m    171\u001B[0m         \u001B[38;5;124m\"\u001B[39m\u001B[38;5;124mfound the following matches with the input file in xarray\u001B[39m\u001B[38;5;124m'\u001B[39m\u001B[38;5;124ms IO \u001B[39m\u001B[38;5;124m\"\u001B[39m\n\u001B[1;32m    172\u001B[0m         \u001B[38;5;124mf\u001B[39m\u001B[38;5;124m\"\u001B[39m\u001B[38;5;124mbackends: \u001B[39m\u001B[38;5;132;01m{\u001B[39;00mcompatible_engines\u001B[38;5;132;01m}\u001B[39;00m\u001B[38;5;124m. But their dependencies may not be installed, see:\u001B[39m\u001B[38;5;130;01m\\n\u001B[39;00m\u001B[38;5;124m\"\u001B[39m\n\u001B[1;32m    173\u001B[0m         \u001B[38;5;124m\"\u001B[39m\u001B[38;5;124mhttps://docs.xarray.dev/en/stable/user-guide/io.html \u001B[39m\u001B[38;5;130;01m\\n\u001B[39;00m\u001B[38;5;124m\"\u001B[39m\n\u001B[1;32m    174\u001B[0m         \u001B[38;5;124m\"\u001B[39m\u001B[38;5;124mhttps://docs.xarray.dev/en/stable/getting-started-guide/installing.html\u001B[39m\u001B[38;5;124m\"\u001B[39m\n\u001B[1;32m    175\u001B[0m     )\n\u001B[0;32m--> 177\u001B[0m \u001B[38;5;28;01mraise\u001B[39;00m \u001B[38;5;167;01mValueError\u001B[39;00m(error_msg)\n",
      "\u001B[0;31mValueError\u001B[0m: found the following matches with the input file in xarray's IO backends: ['netcdf4', 'h5netcdf']. But their dependencies may not be installed, see:\nhttps://docs.xarray.dev/en/stable/user-guide/io.html \nhttps://docs.xarray.dev/en/stable/getting-started-guide/installing.html"
     ]
    },
    {
     "data": {
      "image/png": "[encoded data removed]",
      "text/plain": [
       "<Figure size 2000x1300 with 4 Axes>"
      ]
     },
     "metadata": {},
     "output_type": "display_data"
    }
   ],
   "source": [
    "\n",
    "# Make a video of 2019 to 2021\n",
    "start_date = date(2019,1,1)\n",
    "end_date = date(2019,1,3)\n",
    "\n",
    "cur_date = start_date\n",
    "while cur_date < end_date:\n",
    "    fig, axs = plt.subplots(2, 2, figsize=(20, 13), subplot_kw={'projection': ccrs.PlateCarree()})\n",
    "    file_name = join(\"/Net/work/ozavala/GOFFISH/imgs/SatelliteDataComparison\", cur_date.strftime(\"%Y-%m-%d\"))\n",
    "    adt, sss, sst, chlora, lc = read_day(cur_date)\n",
    "    fig = plotData(fig, axs, adt, sss, sst, chlora, lc)\n",
    "    plt.show()\n",
    "    # plt.savefig(file_name)\n",
    "    # print(f\"Done saving {cur_date}\", flush=True)\n",
    "    cur_date += timedelta(days=1)\n",
    "    plt.close()\n",
    "    exit()\n",
    "    "
   ]
  },
  {
   "cell_type": "code",
   "execution_count": null,
   "id": "e96d7433-6586-45e8-868c-695aa1f21011",
   "metadata": {},
   "outputs": [],
   "source": [
    "@interact(cur_date=widgets.DatePicker(description='Pick a Date', disabled=False, value=date(2019,1,1)))\n",
    "def plotDay(cur_date):\n",
    "    adt, sss, sst, chlora = read_day(cur_date)\n",
    "    plotData(adt, sss, sst, chlora)"
   ]
  },
  {
   "cell_type": "code",
   "execution_count": null,
   "id": "dc98dbd8-af4d-4b06-909c-b01b43deedfd",
   "metadata": {},
   "outputs": [],
   "source": []
  }
 ],
 "metadata": {
  "kernelspec": {
   "display_name": "Python 3 (ipykernel)",
   "language": "python",
   "name": "python3"
  },
  "language_info": {
   "codemirror_mode": {
    "name": "ipython",
    "version": 3
   },
   "file_extension": ".py",
   "mimetype": "text/x-python",
   "name": "python",
   "nbconvert_exporter": "python",
   "pygments_lexer": "ipython3",
   "version": "3.8.15"
  }
 },
 "nbformat": 4,
 "nbformat_minor": 5
}
